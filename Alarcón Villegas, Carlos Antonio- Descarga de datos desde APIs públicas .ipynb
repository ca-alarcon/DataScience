{
 "cells": [
  {
   "cell_type": "markdown",
   "id": "3ce194f8",
   "metadata": {},
   "source": [
    "<center> <h2> Desafío entregable </h2> </center>\n",
    "\n",
    "## Descarga de datos desde APIs públicas\n",
    "### Comisión 32845\n",
    "* **Tutor:** Anahí García\n",
    "* **Alumno:** Carlos Alarcón Villegas"
   ]
  },
  {
   "cell_type": "markdown",
   "id": "8b4eb5e2",
   "metadata": {},
   "source": [
    "### Se importan las librerías necesarias:"
   ]
  },
  {
   "cell_type": "code",
   "execution_count": 1,
   "id": "e71e3edd",
   "metadata": {},
   "outputs": [],
   "source": [
    "import requests\n",
    "import pandas as pd"
   ]
  },
  {
   "cell_type": "code",
   "execution_count": 2,
   "id": "f5dff58a",
   "metadata": {},
   "outputs": [],
   "source": [
    "api_key = \"xxxxxxxxxxxxxxxxxxxxxxxxxxxxx\"\n",
    "tema_busqueda = \"Derrame cerebral\""
   ]
  },
  {
   "cell_type": "code",
   "execution_count": 3,
   "id": "59af7869",
   "metadata": {},
   "outputs": [],
   "source": [
    "url = f\"https://www.googleapis.com/youtube/v3/search?part=snippet&q={tema_busqueda}&type=video&key={api_key}\"\n",
    "respuesta = requests.get(url)"
   ]
  },
  {
   "cell_type": "markdown",
   "id": "9c90c8f3",
   "metadata": {},
   "source": [
    "Se verifica que la respuesta de la solicitud sea exitosa, comprobando el código de estado de la respuesta. \n",
    "* Si es 200, la solicitud fue exitosa y se puede continuar con el procesamiento."
   ]
  },
  {
   "cell_type": "code",
   "execution_count": 4,
   "id": "4ce7f08b",
   "metadata": {},
   "outputs": [],
   "source": [
    "# Si la solicitud es exitosa, extraer los datos de los videos y almacenarlos en un DataFrame\n",
    "if respuesta.status_code == 200:\n",
    "    # Se extraen los datos de los videos de la rta. JSON utilizando la función response.json()[\"items\"].\n",
    "    videos = respuesta.json()[\"items\"]\n",
    "    \n",
    "    #Se crea una lista vacía que se utilizará para almacenar los datos de los videos. \n",
    "    data = []\n",
    "    \n",
    "    for video in videos:\n",
    "        video_data = {}\n",
    "        video_data[\"video_id\"] = video[\"id\"][\"videoId\"]\n",
    "        video_data[\"Título\"] = video[\"snippet\"][\"title\"]\n",
    "        video_data[\"Descripción\"] = video[\"snippet\"][\"description\"]\n",
    "        video_data[\"Nombre del canal\"] = video[\"snippet\"][\"channelTitle\"]\n",
    "        \n",
    "        # Se construye la URL de la solicitud de estadísticas de la API de YouTube para el canal actual.\n",
    "        url_canal = f\"https://www.googleapis.com/youtube/v3/channels?part=statistics&id={video['snippet']['channelId']}&key={api_key}\"\n",
    "        respuesta_canal = requests.get(url_canal)\n",
    "        \n",
    "        # Se verifica que la respuesta de la solicitud de estadísticas sea exitosa, comprobando \n",
    "        # el código de estado de la respuesta. \n",
    "        if respuesta_canal.status_code == 200:\n",
    "            canal_data = respuesta_canal.json()[\"items\"][0][\"statistics\"]\n",
    "            video_data[\"Cantidad de suscriptores\"] = canal_data.get(\"subscriberCount\", 0)\n",
    "        else:\n",
    "            video_data[\"Cantidad de suscriptores\"] = 0\n",
    "        \n",
    "        video_data[\"Fecha de publicación\"] = video[\"snippet\"][\"publishTime\"]\n",
    "        \n",
    "        # Se construye la URL de la solicitud de estadísticas de la API de YouTube para el video actual.\n",
    "        estadisticas_url = f\"https://www.googleapis.com/youtube/v3/videos?id={video_data['video_id']}&part=statistics&key={api_key}\"\n",
    "        respuesta_estadisticas = requests.get(estadisticas_url)\n",
    "        \n",
    "        # Se verifica que la respuesta de la solicitud de estadísticas sea exitosa, comprobando \n",
    "        # el código de estado de la respuesta. \n",
    "        if respuesta_estadisticas.status_code == 200:\n",
    "            estadisticas_data = respuesta_estadisticas.json()[\"items\"][0][\"statistics\"]\n",
    "            video_data[\"Cantidad de visualizaciones\"] = estadisticas_data.get(\"viewCount\", 0)\n",
    "            video_data[\"Cantidad de Me gustas\"] = estadisticas_data.get(\"likeCount\", 0)\n",
    "            video_data[\"Cantidad de comentarios\"] = estadisticas_data.get(\"commentCount\", 0)\n",
    "        else:\n",
    "            video_data[\"Cantidad de visualizaciones\"] = 0\n",
    "            video_data[\"Cantidad de Me gustas\"] = 0\n",
    "            video_data[\"Cantidad de comentarios\"] = 0\n",
    "        \n",
    "        data.append(video_data)\n",
    "    \n",
    "    # Se crea un DataFrame utilizando la lista \"data\"\n",
    "    df = pd.DataFrame(data)\n",
    "\n",
    "# Si la solicitud de búsqueda falla, se muestra un mensaje de error.\n",
    "else:\n",
    "    print(\"Error en la solicitud de búsqueda.\")\n"
   ]
  },
  {
   "cell_type": "markdown",
   "id": "d0100b22",
   "metadata": {},
   "source": [
    "**Validamos la carga de datos mediante la impresión de las primeras 5 filas**"
   ]
  },
  {
   "cell_type": "code",
   "execution_count": 5,
   "id": "f2af6c64",
   "metadata": {},
   "outputs": [
    {
     "data": {
      "text/html": [
       "<div>\n",
       "<style scoped>\n",
       "    .dataframe tbody tr th:only-of-type {\n",
       "        vertical-align: middle;\n",
       "    }\n",
       "\n",
       "    .dataframe tbody tr th {\n",
       "        vertical-align: top;\n",
       "    }\n",
       "\n",
       "    .dataframe thead th {\n",
       "        text-align: right;\n",
       "    }\n",
       "</style>\n",
       "<table border=\"1\" class=\"dataframe\">\n",
       "  <thead>\n",
       "    <tr style=\"text-align: right;\">\n",
       "      <th></th>\n",
       "      <th>video_id</th>\n",
       "      <th>Título</th>\n",
       "      <th>Descripción</th>\n",
       "      <th>Nombre del canal</th>\n",
       "      <th>Cantidad de suscriptores</th>\n",
       "      <th>Fecha de publicación</th>\n",
       "      <th>Cantidad de visualizaciones</th>\n",
       "      <th>Cantidad de Me gustas</th>\n",
       "      <th>Cantidad de comentarios</th>\n",
       "    </tr>\n",
       "  </thead>\n",
       "  <tbody>\n",
       "    <tr>\n",
       "      <th>0</th>\n",
       "      <td>7DfW328HDMk</td>\n",
       "      <td>3 Síntomas y Causas de DERRAME cerebral</td>\n",
       "      <td>Causas y síntomas de DERRAME o hemorragia cere...</td>\n",
       "      <td>Alberto Sanagustín</td>\n",
       "      <td>1300000</td>\n",
       "      <td>2022-11-06T22:55:43Z</td>\n",
       "      <td>68539</td>\n",
       "      <td>2964</td>\n",
       "      <td>34</td>\n",
       "    </tr>\n",
       "    <tr>\n",
       "      <th>1</th>\n",
       "      <td>oxHkomQxF3A</td>\n",
       "      <td>¿Cómo y por qué ocurren los derrames cerebrales?</td>\n",
       "      <td>El doctor Juan Rivera explica cómo y por qué o...</td>\n",
       "      <td>Univision Noticias</td>\n",
       "      <td>7630000</td>\n",
       "      <td>2014-10-19T21:32:37Z</td>\n",
       "      <td>407631</td>\n",
       "      <td>3302</td>\n",
       "      <td>156</td>\n",
       "    </tr>\n",
       "    <tr>\n",
       "      <th>2</th>\n",
       "      <td>drGymPkfKrM</td>\n",
       "      <td>Síntomas y factores de riesgo en los derrames ...</td>\n",
       "      <td>El Dr. José Biller diserta sobre factores de r...</td>\n",
       "      <td>Univision Noticias</td>\n",
       "      <td>7630000</td>\n",
       "      <td>2014-10-19T22:00:41Z</td>\n",
       "      <td>426944</td>\n",
       "      <td>2784</td>\n",
       "      <td>131</td>\n",
       "    </tr>\n",
       "    <tr>\n",
       "      <th>3</th>\n",
       "      <td>Tb7yvkVerjc</td>\n",
       "      <td>Infarto o derrame cerebral</td>\n",
       "      <td></td>\n",
       "      <td>Hospital Nacional</td>\n",
       "      <td>12900</td>\n",
       "      <td>2017-05-22T17:17:44Z</td>\n",
       "      <td>249589</td>\n",
       "      <td>2370</td>\n",
       "      <td>214</td>\n",
       "    </tr>\n",
       "    <tr>\n",
       "      <th>4</th>\n",
       "      <td>lBnT9oWaxk4</td>\n",
       "      <td>DERRAME CEREBRAL 💥 Síntomas, Causas y Tratamie...</td>\n",
       "      <td>Las hemorragias cerebrales son conocidas popul...</td>\n",
       "      <td>Alberto Sanagustín</td>\n",
       "      <td>1300000</td>\n",
       "      <td>2022-01-19T22:34:53Z</td>\n",
       "      <td>165020</td>\n",
       "      <td>3181</td>\n",
       "      <td>206</td>\n",
       "    </tr>\n",
       "  </tbody>\n",
       "</table>\n",
       "</div>"
      ],
      "text/plain": [
       "      video_id                                             Título  \\\n",
       "0  7DfW328HDMk            3 Síntomas y Causas de DERRAME cerebral   \n",
       "1  oxHkomQxF3A   ¿Cómo y por qué ocurren los derrames cerebrales?   \n",
       "2  drGymPkfKrM  Síntomas y factores de riesgo en los derrames ...   \n",
       "3  Tb7yvkVerjc                         Infarto o derrame cerebral   \n",
       "4  lBnT9oWaxk4  DERRAME CEREBRAL 💥 Síntomas, Causas y Tratamie...   \n",
       "\n",
       "                                         Descripción    Nombre del canal  \\\n",
       "0  Causas y síntomas de DERRAME o hemorragia cere...  Alberto Sanagustín   \n",
       "1  El doctor Juan Rivera explica cómo y por qué o...  Univision Noticias   \n",
       "2  El Dr. José Biller diserta sobre factores de r...  Univision Noticias   \n",
       "3                                                      Hospital Nacional   \n",
       "4  Las hemorragias cerebrales son conocidas popul...  Alberto Sanagustín   \n",
       "\n",
       "  Cantidad de suscriptores  Fecha de publicación Cantidad de visualizaciones  \\\n",
       "0                  1300000  2022-11-06T22:55:43Z                       68539   \n",
       "1                  7630000  2014-10-19T21:32:37Z                      407631   \n",
       "2                  7630000  2014-10-19T22:00:41Z                      426944   \n",
       "3                    12900  2017-05-22T17:17:44Z                      249589   \n",
       "4                  1300000  2022-01-19T22:34:53Z                      165020   \n",
       "\n",
       "  Cantidad de Me gustas Cantidad de comentarios  \n",
       "0                  2964                      34  \n",
       "1                  3302                     156  \n",
       "2                  2784                     131  \n",
       "3                  2370                     214  \n",
       "4                  3181                     206  "
      ]
     },
     "execution_count": 5,
     "metadata": {},
     "output_type": "execute_result"
    }
   ],
   "source": [
    "df.head()"
   ]
  },
  {
   "cell_type": "markdown",
   "id": "7b859be8",
   "metadata": {},
   "source": [
    "**Dimensiones del DataFrame**"
   ]
  },
  {
   "cell_type": "code",
   "execution_count": 6,
   "id": "41825dd1",
   "metadata": {},
   "outputs": [
    {
     "data": {
      "text/plain": [
       "(5, 9)"
      ]
     },
     "execution_count": 6,
     "metadata": {},
     "output_type": "execute_result"
    }
   ],
   "source": [
    "df.shape"
   ]
  },
  {
   "cell_type": "markdown",
   "id": "bb6689ca",
   "metadata": {},
   "source": [
    "**Validamos las columnas y el tipo de formato de c/columna**"
   ]
  },
  {
   "cell_type": "code",
   "execution_count": 7,
   "id": "b1a4b645",
   "metadata": {},
   "outputs": [
    {
     "name": "stdout",
     "output_type": "stream",
     "text": [
      "<class 'pandas.core.frame.DataFrame'>\n",
      "RangeIndex: 5 entries, 0 to 4\n",
      "Data columns (total 9 columns):\n",
      " #   Column                       Non-Null Count  Dtype \n",
      "---  ------                       --------------  ----- \n",
      " 0   video_id                     5 non-null      object\n",
      " 1   Título                       5 non-null      object\n",
      " 2   Descripción                  5 non-null      object\n",
      " 3   Nombre del canal             5 non-null      object\n",
      " 4   Cantidad de suscriptores     5 non-null      object\n",
      " 5   Fecha de publicación         5 non-null      object\n",
      " 6   Cantidad de visualizaciones  5 non-null      object\n",
      " 7   Cantidad de Me gustas        5 non-null      object\n",
      " 8   Cantidad de comentarios      5 non-null      object\n",
      "dtypes: object(9)\n",
      "memory usage: 488.0+ bytes\n"
     ]
    }
   ],
   "source": [
    "df.info()"
   ]
  }
 ],
 "metadata": {
  "kernelspec": {
   "display_name": "Python 3 (ipykernel)",
   "language": "python",
   "name": "python3"
  },
  "language_info": {
   "codemirror_mode": {
    "name": "ipython",
    "version": 3
   },
   "file_extension": ".py",
   "mimetype": "text/x-python",
   "name": "python",
   "nbconvert_exporter": "python",
   "pygments_lexer": "ipython3",
   "version": "3.9.13"
  }
 },
 "nbformat": 4,
 "nbformat_minor": 5
}
